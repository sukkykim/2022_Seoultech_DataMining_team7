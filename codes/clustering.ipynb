{
 "cells": [
  {
   "cell_type": "code",
   "execution_count": 48,
   "metadata": {},
   "outputs": [],
   "source": [
    "from sklearn.cluster import KMeans\n",
    "from sklearn.metrics import silhouette_score\n",
    "import pandas as pd"
   ]
  },
  {
   "cell_type": "code",
   "execution_count": 49,
   "metadata": {},
   "outputs": [],
   "source": [
    "from sklearn.preprocessing import MinMaxScaler"
   ]
  },
  {
   "cell_type": "code",
   "execution_count": 50,
   "metadata": {},
   "outputs": [],
   "source": [
    "dataset1 = pd.read_csv('C:/Users/pjh45/OneDrive/바탕 화면/상관분석_매출통합_csv.csv')"
   ]
  },
  {
   "cell_type": "code",
   "execution_count": 51,
   "metadata": {},
   "outputs": [],
   "source": [
    "X_dataset=dataset1.drop(columns=['year','session','total_sale','s_zone','s_zone_code','s_zone_name'])\n",
    "y_dataset=dataset1['total_sale']"
   ]
  },
  {
   "cell_type": "code",
   "execution_count": 52,
   "metadata": {},
   "outputs": [
    {
     "data": {
      "text/plain": [
       "21772"
      ]
     },
     "execution_count": 52,
     "metadata": {},
     "output_type": "execute_result"
    }
   ],
   "source": [
    "len(X_dataset)"
   ]
  },
  {
   "cell_type": "code",
   "execution_count": 53,
   "metadata": {},
   "outputs": [],
   "source": [
    "# X_test=X_dataset[:1086]\n",
    "# X_train=X_dataset[2174:]\n",
    "# X_val=X_dataset[1086:2174]\n",
    "# y_val=y_dataset[1086:2174]\n",
    "# y_test=y_dataset[:1086]\n",
    "# y_train=y_dataset[2174:]"
   ]
  },
  {
   "cell_type": "markdown",
   "metadata": {},
   "source": [
    "### 상권 코드가 같은 상권은 같은 클러스터를 가지는 것을 전제로 클러스터링을 진행하였습니다.\n",
    "### 2017년 1분기 데이터로 클러스터링을 진행하여 나머지 데이터셋에도 같은 상권코드를 가진 데이터에는 같은 라벨을 부여할 것입니다."
   ]
  },
  {
   "cell_type": "code",
   "execution_count": 54,
   "metadata": {},
   "outputs": [],
   "source": [
    "X_train=X_dataset[20683:] #2017년 1분기 데이터\n",
    "y_train=y_dataset[20683:]"
   ]
  },
  {
   "cell_type": "code",
   "execution_count": 55,
   "metadata": {},
   "outputs": [],
   "source": [
    "scaler = MinMaxScaler((-1,1)) #스케일링\n",
    "scaler.fit(X_train)\n",
    "train_data_scaled = scaler.transform(X_train)"
   ]
  },
  {
   "cell_type": "markdown",
   "metadata": {},
   "source": [
    "# K-mean Clustering"
   ]
  },
  {
   "cell_type": "code",
   "execution_count": 56,
   "metadata": {},
   "outputs": [],
   "source": [
    "cluster_num=[2,3,4,5,6]\n",
    "\n",
    "for i in cluster_num:\n",
    "    kmeans = KMeans(n_clusters=i, random_state=10)\n",
    "    cluster_labels = kmeans.fit_predict(train_data_scaled)"
   ]
  },
  {
   "cell_type": "code",
   "execution_count": 57,
   "metadata": {},
   "outputs": [],
   "source": [
    "cluster_num=[2,3,4,5,6]\n",
    "sil_scores = []\n",
    "inertia = []\n",
    "\n",
    "for n_clusters in cluster_num:\n",
    "    kmeans = KMeans(n_clusters=n_clusters, random_state=10)\n",
    "    cluster_labels = kmeans.fit_predict(train_data_scaled)\n",
    "    \n",
    "    sil_scores.append(silhouette_score(train_data_scaled, cluster_labels))"
   ]
  },
  {
   "cell_type": "code",
   "execution_count": 58,
   "metadata": {},
   "outputs": [
    {
     "data": {
      "text/plain": [
       "[0.2450350462610651,\n",
       " 0.15926123871172318,\n",
       " 0.15991833982318324,\n",
       " 0.1608851036178405,\n",
       " 0.08194821086106524]"
      ]
     },
     "execution_count": 58,
     "metadata": {},
     "output_type": "execute_result"
    }
   ],
   "source": [
    "sil_scores"
   ]
  },
  {
   "cell_type": "code",
   "execution_count": 59,
   "metadata": {},
   "outputs": [
    {
     "data": {
      "text/plain": [
       "Text(0.5, 1.0, 'Silhouette Score')"
      ]
     },
     "execution_count": 59,
     "metadata": {},
     "output_type": "execute_result"
    },
    {
     "data": {
      "image/png": "[encoded data removed]",
      "text/plain": [
       "<Figure size 432x288 with 1 Axes>"
      ]
     },
     "metadata": {
      "needs_background": "light"
     },
     "output_type": "display_data"
    }
   ],
   "source": [
    "import matplotlib.pyplot as plt\n",
    "plt.bar(range(2,7), sil_scores,)\n",
    "plt.xlabel(\"Number of clusters\")\n",
    "plt.title(\"Silhouette Score\")"
   ]
  },
  {
   "cell_type": "markdown",
   "metadata": {},
   "source": [
    "### 실루엣 점수 높은 모델 재학습"
   ]
  },
  {
   "cell_type": "code",
   "execution_count": 60,
   "metadata": {},
   "outputs": [],
   "source": [
    "kmeans = KMeans(n_clusters=2, random_state=10)\n",
    "cluster_labels = kmeans.fit_predict(train_data_scaled)"
   ]
  },
  {
   "cell_type": "code",
   "execution_count": 61,
   "metadata": {},
   "outputs": [
    {
     "data": {
      "text/plain": [
       "756"
      ]
     },
     "execution_count": 61,
     "metadata": {},
     "output_type": "execute_result"
    }
   ],
   "source": [
    "import numpy as np\n",
    "aa =kmeans.predict(train_data_scaled)  #예측\n",
    "bb=aa.tolist()\n",
    "bb.count(0)\n",
    "# len(X_test)"
   ]
  },
  {
   "cell_type": "code",
   "execution_count": 62,
   "metadata": {},
   "outputs": [
    {
     "data": {
      "text/plain": [
       "1089"
      ]
     },
     "execution_count": 62,
     "metadata": {},
     "output_type": "execute_result"
    }
   ],
   "source": [
    "len(train_data_scaled)"
   ]
  },
  {
   "cell_type": "code",
   "execution_count": 63,
   "metadata": {},
   "outputs": [],
   "source": [
    "labels=kmeans.predict(train_data_scaled)"
   ]
  },
  {
   "cell_type": "code",
   "execution_count": 64,
   "metadata": {},
   "outputs": [],
   "source": [
    "label = pd.DataFrame({'label':labels})"
   ]
  },
  {
   "cell_type": "code",
   "execution_count": null,
   "metadata": {},
   "outputs": [],
   "source": [
    "label.to_csv('C:/Users/pjh45/OneDrive/바탕 화면/label1.csv', mode='w') #데이터 포인트별 라벨 엑셀로 저장"
   ]
  },
  {
   "cell_type": "markdown",
   "metadata": {},
   "source": [
    "# Agglomerative Clustering"
   ]
  },
  {
   "cell_type": "code",
   "execution_count": 66,
   "metadata": {},
   "outputs": [
    {
     "data": {
      "text/html": [
       "<div>\n",
       "<style scoped>\n",
       "    .dataframe tbody tr th:only-of-type {\n",
       "        vertical-align: middle;\n",
       "    }\n",
       "\n",
       "    .dataframe tbody tr th {\n",
       "        vertical-align: top;\n",
       "    }\n",
       "\n",
       "    .dataframe thead th {\n",
       "        text-align: right;\n",
       "    }\n",
       "</style>\n",
       "<table border=\"1\" class=\"dataframe\">\n",
       "  <thead>\n",
       "    <tr style=\"text-align: right;\">\n",
       "      <th></th>\n",
       "      <th>linkage</th>\n",
       "      <th>n_cluster</th>\n",
       "      <th>silhoutte score</th>\n",
       "    </tr>\n",
       "  </thead>\n",
       "  <tbody>\n",
       "    <tr>\n",
       "      <th>0</th>\n",
       "      <td>average</td>\n",
       "      <td>2</td>\n",
       "      <td>0.189930</td>\n",
       "    </tr>\n",
       "    <tr>\n",
       "      <th>1</th>\n",
       "      <td>average</td>\n",
       "      <td>3</td>\n",
       "      <td>0.157654</td>\n",
       "    </tr>\n",
       "    <tr>\n",
       "      <th>2</th>\n",
       "      <td>average</td>\n",
       "      <td>4</td>\n",
       "      <td>0.161365</td>\n",
       "    </tr>\n",
       "    <tr>\n",
       "      <th>3</th>\n",
       "      <td>average</td>\n",
       "      <td>5</td>\n",
       "      <td>0.169188</td>\n",
       "    </tr>\n",
       "    <tr>\n",
       "      <th>4</th>\n",
       "      <td>average</td>\n",
       "      <td>6</td>\n",
       "      <td>0.175090</td>\n",
       "    </tr>\n",
       "    <tr>\n",
       "      <th>5</th>\n",
       "      <td>average</td>\n",
       "      <td>7</td>\n",
       "      <td>0.039399</td>\n",
       "    </tr>\n",
       "    <tr>\n",
       "      <th>6</th>\n",
       "      <td>average</td>\n",
       "      <td>8</td>\n",
       "      <td>0.042686</td>\n",
       "    </tr>\n",
       "    <tr>\n",
       "      <th>7</th>\n",
       "      <td>average</td>\n",
       "      <td>9</td>\n",
       "      <td>0.039863</td>\n",
       "    </tr>\n",
       "    <tr>\n",
       "      <th>8</th>\n",
       "      <td>complete</td>\n",
       "      <td>2</td>\n",
       "      <td>0.326186</td>\n",
       "    </tr>\n",
       "    <tr>\n",
       "      <th>9</th>\n",
       "      <td>complete</td>\n",
       "      <td>3</td>\n",
       "      <td>0.320665</td>\n",
       "    </tr>\n",
       "    <tr>\n",
       "      <th>10</th>\n",
       "      <td>complete</td>\n",
       "      <td>4</td>\n",
       "      <td>0.309065</td>\n",
       "    </tr>\n",
       "    <tr>\n",
       "      <th>11</th>\n",
       "      <td>complete</td>\n",
       "      <td>5</td>\n",
       "      <td>0.315709</td>\n",
       "    </tr>\n",
       "    <tr>\n",
       "      <th>12</th>\n",
       "      <td>complete</td>\n",
       "      <td>6</td>\n",
       "      <td>0.317828</td>\n",
       "    </tr>\n",
       "    <tr>\n",
       "      <th>13</th>\n",
       "      <td>complete</td>\n",
       "      <td>7</td>\n",
       "      <td>0.280546</td>\n",
       "    </tr>\n",
       "    <tr>\n",
       "      <th>14</th>\n",
       "      <td>complete</td>\n",
       "      <td>8</td>\n",
       "      <td>0.280880</td>\n",
       "    </tr>\n",
       "    <tr>\n",
       "      <th>15</th>\n",
       "      <td>complete</td>\n",
       "      <td>9</td>\n",
       "      <td>0.281192</td>\n",
       "    </tr>\n",
       "    <tr>\n",
       "      <th>16</th>\n",
       "      <td>single</td>\n",
       "      <td>2</td>\n",
       "      <td>0.656737</td>\n",
       "    </tr>\n",
       "    <tr>\n",
       "      <th>17</th>\n",
       "      <td>single</td>\n",
       "      <td>3</td>\n",
       "      <td>0.517754</td>\n",
       "    </tr>\n",
       "    <tr>\n",
       "      <th>18</th>\n",
       "      <td>single</td>\n",
       "      <td>4</td>\n",
       "      <td>0.487971</td>\n",
       "    </tr>\n",
       "    <tr>\n",
       "      <th>19</th>\n",
       "      <td>single</td>\n",
       "      <td>5</td>\n",
       "      <td>0.480805</td>\n",
       "    </tr>\n",
       "    <tr>\n",
       "      <th>20</th>\n",
       "      <td>single</td>\n",
       "      <td>6</td>\n",
       "      <td>0.463014</td>\n",
       "    </tr>\n",
       "    <tr>\n",
       "      <th>21</th>\n",
       "      <td>single</td>\n",
       "      <td>7</td>\n",
       "      <td>0.447049</td>\n",
       "    </tr>\n",
       "    <tr>\n",
       "      <th>22</th>\n",
       "      <td>single</td>\n",
       "      <td>8</td>\n",
       "      <td>0.440192</td>\n",
       "    </tr>\n",
       "    <tr>\n",
       "      <th>23</th>\n",
       "      <td>single</td>\n",
       "      <td>9</td>\n",
       "      <td>0.438294</td>\n",
       "    </tr>\n",
       "    <tr>\n",
       "      <th>24</th>\n",
       "      <td>ward</td>\n",
       "      <td>2</td>\n",
       "      <td>0.548857</td>\n",
       "    </tr>\n",
       "    <tr>\n",
       "      <th>25</th>\n",
       "      <td>ward</td>\n",
       "      <td>3</td>\n",
       "      <td>0.492629</td>\n",
       "    </tr>\n",
       "    <tr>\n",
       "      <th>26</th>\n",
       "      <td>ward</td>\n",
       "      <td>4</td>\n",
       "      <td>0.492270</td>\n",
       "    </tr>\n",
       "    <tr>\n",
       "      <th>27</th>\n",
       "      <td>ward</td>\n",
       "      <td>5</td>\n",
       "      <td>0.478496</td>\n",
       "    </tr>\n",
       "    <tr>\n",
       "      <th>28</th>\n",
       "      <td>ward</td>\n",
       "      <td>6</td>\n",
       "      <td>0.475804</td>\n",
       "    </tr>\n",
       "    <tr>\n",
       "      <th>29</th>\n",
       "      <td>ward</td>\n",
       "      <td>7</td>\n",
       "      <td>0.472507</td>\n",
       "    </tr>\n",
       "    <tr>\n",
       "      <th>30</th>\n",
       "      <td>ward</td>\n",
       "      <td>8</td>\n",
       "      <td>0.452340</td>\n",
       "    </tr>\n",
       "    <tr>\n",
       "      <th>31</th>\n",
       "      <td>ward</td>\n",
       "      <td>9</td>\n",
       "      <td>0.406965</td>\n",
       "    </tr>\n",
       "  </tbody>\n",
       "</table>\n",
       "</div>"
      ],
      "text/plain": [
       "     linkage  n_cluster  silhoutte score\n",
       "0    average          2         0.189930\n",
       "1    average          3         0.157654\n",
       "2    average          4         0.161365\n",
       "3    average          5         0.169188\n",
       "4    average          6         0.175090\n",
       "5    average          7         0.039399\n",
       "6    average          8         0.042686\n",
       "7    average          9         0.039863\n",
       "8   complete          2         0.326186\n",
       "9   complete          3         0.320665\n",
       "10  complete          4         0.309065\n",
       "11  complete          5         0.315709\n",
       "12  complete          6         0.317828\n",
       "13  complete          7         0.280546\n",
       "14  complete          8         0.280880\n",
       "15  complete          9         0.281192\n",
       "16    single          2         0.656737\n",
       "17    single          3         0.517754\n",
       "18    single          4         0.487971\n",
       "19    single          5         0.480805\n",
       "20    single          6         0.463014\n",
       "21    single          7         0.447049\n",
       "22    single          8         0.440192\n",
       "23    single          9         0.438294\n",
       "24      ward          2         0.548857\n",
       "25      ward          3         0.492629\n",
       "26      ward          4         0.492270\n",
       "27      ward          5         0.478496\n",
       "28      ward          6         0.475804\n",
       "29      ward          7         0.472507\n",
       "30      ward          8         0.452340\n",
       "31      ward          9         0.406965"
      ]
     },
     "execution_count": 66,
     "metadata": {},
     "output_type": "execute_result"
    }
   ],
   "source": [
    "from sklearn.cluster import AgglomerativeClustering\n",
    "\n",
    "sil_scores = []\n",
    "linkage=[\"ward\",\"complete\",\"average\",\"single\"]\n",
    "\n",
    "for i in linkage:\n",
    "    for n_clusters in range(2,10):\n",
    "            agg = AgglomerativeClustering(n_clusters=n_clusters,linkage=i)\n",
    "            cluster_labels = agg.fit_predict(train_data_scaled)\n",
    "            sil_scores.append(silhouette_score(train_data_scaled, cluster_labels))\n",
    " \n",
    "   \n",
    "\n",
    "pd.DataFrame({\"linkage\":sorted(linkage*8),\"n_cluster\":[2,3,4,5,6,7,8,9]*4,'silhoutte score':sil_scores})"
   ]
  },
  {
   "cell_type": "code",
   "execution_count": 67,
   "metadata": {
    "scrolled": true
   },
   "outputs": [
    {
     "data": {
      "text/plain": [
       "Text(0.5, 1.0, 'Silhouette Score')"
      ]
     },
     "execution_count": 67,
     "metadata": {},
     "output_type": "execute_result"
    },
    {
     "data": {
      "image/png": "[encoded data removed]",
      "text/plain": [
       "<Figure size 432x288 with 1 Axes>"
      ]
     },
     "metadata": {
      "needs_background": "light"
     },
     "output_type": "display_data"
    }
   ],
   "source": [
    "#sil_scores 그래프\n",
    "plt.bar(range(32), sil_scores )\n",
    "plt.xlabel(\"Number of clusters\")\n",
    "plt.title(\"Silhouette Score\")"
   ]
  },
  {
   "cell_type": "markdown",
   "metadata": {},
   "source": [
    "### 실루엣 스코어 가장 높게 것으로 하이퍼파라미터 선정하여 모델 재학습 (n_clusters=2,linkage=\"single\")"
   ]
  },
  {
   "cell_type": "code",
   "execution_count": 68,
   "metadata": {},
   "outputs": [],
   "source": [
    "agg = AgglomerativeClustering(n_clusters=2,linkage=\"single\")\n",
    "cluster_labels = agg.fit_predict(train_data_scaled)"
   ]
  },
  {
   "cell_type": "code",
   "execution_count": 74,
   "metadata": {},
   "outputs": [
    {
     "data": {
      "text/plain": [
       "1088"
      ]
     },
     "execution_count": 74,
     "metadata": {},
     "output_type": "execute_result"
    }
   ],
   "source": [
    "import numpy as np\n",
    "aa =cluster_labels  #예측\n",
    "bb=aa.tolist()\n",
    "bb.count(0)\n",
    "# len(X_test)"
   ]
  },
  {
   "cell_type": "code",
   "execution_count": 70,
   "metadata": {
    "scrolled": true
   },
   "outputs": [
    {
     "data": {
      "text/plain": [
       "1089"
      ]
     },
     "execution_count": 70,
     "metadata": {},
     "output_type": "execute_result"
    }
   ],
   "source": [
    "len(train_data_scaled)"
   ]
  },
  {
   "cell_type": "markdown",
   "metadata": {},
   "source": [
    "### 실루엣 스코어 가장 높았지만 1089 중 1088개가 한 군집으로 클러스터링 되었습니다.  \n",
    "### 두번째로 실루엣 스코어가 높았던  (n_clusters=2,linkage=\"ward\") 로 모델 재학습"
   ]
  },
  {
   "cell_type": "code",
   "execution_count": 79,
   "metadata": {},
   "outputs": [],
   "source": [
    "agg = AgglomerativeClustering(n_clusters=2,linkage=\"ward\")\n",
    "cluster_labels = agg.fit_predict(train_data_scaled)"
   ]
  },
  {
   "cell_type": "code",
   "execution_count": 80,
   "metadata": {
    "scrolled": true
   },
   "outputs": [
    {
     "data": {
      "text/plain": [
       "401"
      ]
     },
     "execution_count": 80,
     "metadata": {},
     "output_type": "execute_result"
    }
   ],
   "source": [
    "import numpy as np\n",
    "aa =cluster_labels  #예측\n",
    "bb=aa.tolist()\n",
    "bb.count(0)\n",
    "# len(X_test)"
   ]
  },
  {
   "cell_type": "code",
   "execution_count": 81,
   "metadata": {},
   "outputs": [
    {
     "data": {
      "text/plain": [
       "1089"
      ]
     },
     "execution_count": 81,
     "metadata": {},
     "output_type": "execute_result"
    }
   ],
   "source": [
    "len(train_data_scaled)"
   ]
  },
  {
   "cell_type": "markdown",
   "metadata": {},
   "source": [
    "#### 1089 중 401개가 클러스터0으로 나누어졌다 ok!"
   ]
  },
  {
   "cell_type": "code",
   "execution_count": 83,
   "metadata": {},
   "outputs": [],
   "source": [
    "labels=cluster_labels"
   ]
  },
  {
   "cell_type": "code",
   "execution_count": 84,
   "metadata": {},
   "outputs": [],
   "source": [
    "label = pd.DataFrame({'label':labels})"
   ]
  },
  {
   "cell_type": "code",
   "execution_count": null,
   "metadata": {},
   "outputs": [],
   "source": [
    "label.to_csv('C:/Users/pjh45/OneDrive/바탕 화면/label2.csv', mode='w') #라벨 엑셀로 저장"
   ]
  },
  {
   "cell_type": "markdown",
   "metadata": {},
   "source": [
    "# DBSCAN"
   ]
  },
  {
   "cell_type": "code",
   "execution_count": 86,
   "metadata": {
    "scrolled": true
   },
   "outputs": [
    {
     "name": "stdout",
     "output_type": "stream",
     "text": [
      "eps: 0.35 min_samples: 3\n",
      "[-1 -1 -1 ... -1 -1 -1]\n",
      "\n",
      "\n",
      "eps: 0.4 min_samples: 3\n",
      "[-1 -1 -1 ... -1 -1 -1]\n",
      "\n",
      "\n",
      "eps: 0.4 min_samples: 5\n",
      "[-1 -1 -1 ... -1 -1 -1]\n",
      "\n",
      "\n",
      "eps: 0.5 min_samples: 3\n",
      "[-1 -1 -1 ... -1 -1 -1]\n",
      "\n",
      "\n",
      "eps: 0.5 min_samples: 5\n",
      "[-1 -1 -1 ... -1 -1 -1]\n",
      "\n",
      "\n",
      "eps: 0.5 min_samples: 10\n",
      "[-1 -1 -1 ... -1 -1 -1]\n",
      "\n",
      "\n",
      "eps: 0.5 min_samples: 20\n",
      "[-1 -1 -1 ... -1 -1 -1]\n",
      "\n",
      "\n",
      "eps: 0.6 min_samples: 3\n",
      "[-1 -1  0 ... -1 -1 -1]\n",
      "\n",
      "\n",
      "eps: 0.6 min_samples: 5\n",
      "[-1 -1  2 ... -1 -1 -1]\n",
      "\n",
      "\n",
      "eps: 0.6 min_samples: 10\n",
      "[-1 -1 -1 ... -1 -1 -1]\n",
      "\n",
      "\n",
      "eps: 0.6 min_samples: 20\n",
      "[-1 -1 -1 ... -1 -1 -1]\n",
      "\n",
      "\n",
      "eps: 0.6 min_samples: 30\n",
      "[-1 -1 -1 ... -1 -1 -1]\n",
      "\n",
      "\n",
      "eps: 0.6 min_samples: 40\n",
      "[-1 -1 -1 ... -1 -1 -1]\n",
      "\n",
      "\n",
      "eps: 0.6 min_samples: 50\n",
      "[-1 -1 -1 ... -1 -1 -1]\n",
      "\n",
      "\n",
      "eps: 0.7 min_samples: 3\n",
      "[-1 -1  0 ... -1 -1 -1]\n",
      "\n",
      "\n",
      "eps: 0.7 min_samples: 5\n",
      "[-1 -1  0 ... -1 -1 -1]\n",
      "\n",
      "\n",
      "eps: 0.7 min_samples: 10\n",
      "[-1 -1  1 ... -1 -1 -1]\n",
      "\n",
      "\n",
      "eps: 0.7 min_samples: 20\n",
      "[-1 -1 -1 ... -1 -1 -1]\n",
      "\n",
      "\n",
      "eps: 0.7 min_samples: 30\n",
      "[-1 -1 -1 ... -1 -1 -1]\n",
      "\n",
      "\n",
      "eps: 0.7 min_samples: 40\n",
      "[-1 -1 -1 ... -1 -1 -1]\n",
      "\n",
      "\n",
      "eps: 0.7 min_samples: 50\n",
      "[-1 -1 -1 ... -1 -1 -1]\n",
      "\n",
      "\n",
      "eps: 0.7 min_samples: 70\n",
      "[-1 -1 -1 ... -1 -1 -1]\n",
      "\n",
      "\n",
      "eps: 0.7 min_samples: 80\n",
      "[-1 -1 -1 ... -1 -1 -1]\n",
      "\n",
      "\n",
      "eps: 0.7 min_samples: 90\n",
      "[-1 -1 -1 ... -1 -1 -1]\n",
      "\n",
      "\n"
     ]
    }
   ],
   "source": [
    "from sklearn.cluster import DBSCAN #실루엣 계수가 나오게 만든 코드\n",
    "eps_list = [0.05,0.1,0.15,0.2,0.25,0.3,0.35,0.4,0.5,0.6,0.7]  \n",
    "min_samples_list = [3,5,10,20,30,40,50,70,80,90]\n",
    "sil_scores = []\n",
    "\n",
    "eps_use = []\n",
    "min_samples_use = []\n",
    "num=0\n",
    "\n",
    "for i in eps_list:\n",
    "    for j in min_samples_list:\n",
    "        dbscan = DBSCAN(eps=i, min_samples=j)\n",
    "        dbscan.fit(train_data_scaled)\n",
    "        assignments_dbscan_labels = dbscan.labels_\n",
    "        \n",
    "        if len(set(dbscan.labels_)) != 1:\n",
    "            print('eps:',i,'min_samples:',j)\n",
    "            print(assignments_dbscan_labels)\n",
    "            num = num+1\n",
    "            print('\\n')\n",
    "            eps_use.append(i)\n",
    "            min_samples_use.append(j)\n",
    "            sil_scores.append(silhouette_score(train_data_scaled, dbscan.labels_))\n",
    "\n"
   ]
  },
  {
   "cell_type": "code",
   "execution_count": 87,
   "metadata": {},
   "outputs": [
    {
     "data": {
      "text/html": [
       "<div>\n",
       "<style scoped>\n",
       "    .dataframe tbody tr th:only-of-type {\n",
       "        vertical-align: middle;\n",
       "    }\n",
       "\n",
       "    .dataframe tbody tr th {\n",
       "        vertical-align: top;\n",
       "    }\n",
       "\n",
       "    .dataframe thead th {\n",
       "        text-align: right;\n",
       "    }\n",
       "</style>\n",
       "<table border=\"1\" class=\"dataframe\">\n",
       "  <thead>\n",
       "    <tr style=\"text-align: right;\">\n",
       "      <th></th>\n",
       "      <th>eps</th>\n",
       "      <th>min_samples</th>\n",
       "      <th>silhoutte score</th>\n",
       "    </tr>\n",
       "  </thead>\n",
       "  <tbody>\n",
       "    <tr>\n",
       "      <th>0</th>\n",
       "      <td>0.35</td>\n",
       "      <td>3</td>\n",
       "      <td>-0.292218</td>\n",
       "    </tr>\n",
       "    <tr>\n",
       "      <th>1</th>\n",
       "      <td>0.40</td>\n",
       "      <td>3</td>\n",
       "      <td>-0.286886</td>\n",
       "    </tr>\n",
       "    <tr>\n",
       "      <th>2</th>\n",
       "      <td>0.40</td>\n",
       "      <td>5</td>\n",
       "      <td>-0.271692</td>\n",
       "    </tr>\n",
       "    <tr>\n",
       "      <th>3</th>\n",
       "      <td>0.50</td>\n",
       "      <td>3</td>\n",
       "      <td>-0.260339</td>\n",
       "    </tr>\n",
       "    <tr>\n",
       "      <th>4</th>\n",
       "      <td>0.50</td>\n",
       "      <td>5</td>\n",
       "      <td>-0.211581</td>\n",
       "    </tr>\n",
       "    <tr>\n",
       "      <th>5</th>\n",
       "      <td>0.50</td>\n",
       "      <td>10</td>\n",
       "      <td>-0.140371</td>\n",
       "    </tr>\n",
       "    <tr>\n",
       "      <th>6</th>\n",
       "      <td>0.50</td>\n",
       "      <td>20</td>\n",
       "      <td>-0.167624</td>\n",
       "    </tr>\n",
       "    <tr>\n",
       "      <th>7</th>\n",
       "      <td>0.60</td>\n",
       "      <td>3</td>\n",
       "      <td>-0.077055</td>\n",
       "    </tr>\n",
       "    <tr>\n",
       "      <th>8</th>\n",
       "      <td>0.60</td>\n",
       "      <td>5</td>\n",
       "      <td>-0.096872</td>\n",
       "    </tr>\n",
       "    <tr>\n",
       "      <th>9</th>\n",
       "      <td>0.60</td>\n",
       "      <td>10</td>\n",
       "      <td>-0.018726</td>\n",
       "    </tr>\n",
       "    <tr>\n",
       "      <th>10</th>\n",
       "      <td>0.60</td>\n",
       "      <td>20</td>\n",
       "      <td>-0.048643</td>\n",
       "    </tr>\n",
       "    <tr>\n",
       "      <th>11</th>\n",
       "      <td>0.60</td>\n",
       "      <td>30</td>\n",
       "      <td>-0.076783</td>\n",
       "    </tr>\n",
       "    <tr>\n",
       "      <th>12</th>\n",
       "      <td>0.60</td>\n",
       "      <td>40</td>\n",
       "      <td>-0.111102</td>\n",
       "    </tr>\n",
       "    <tr>\n",
       "      <th>13</th>\n",
       "      <td>0.60</td>\n",
       "      <td>50</td>\n",
       "      <td>-0.128094</td>\n",
       "    </tr>\n",
       "    <tr>\n",
       "      <th>14</th>\n",
       "      <td>0.70</td>\n",
       "      <td>3</td>\n",
       "      <td>-0.129697</td>\n",
       "    </tr>\n",
       "    <tr>\n",
       "      <th>15</th>\n",
       "      <td>0.70</td>\n",
       "      <td>5</td>\n",
       "      <td>-0.005883</td>\n",
       "    </tr>\n",
       "    <tr>\n",
       "      <th>16</th>\n",
       "      <td>0.70</td>\n",
       "      <td>10</td>\n",
       "      <td>-0.013075</td>\n",
       "    </tr>\n",
       "    <tr>\n",
       "      <th>17</th>\n",
       "      <td>0.70</td>\n",
       "      <td>20</td>\n",
       "      <td>0.062371</td>\n",
       "    </tr>\n",
       "    <tr>\n",
       "      <th>18</th>\n",
       "      <td>0.70</td>\n",
       "      <td>30</td>\n",
       "      <td>0.042605</td>\n",
       "    </tr>\n",
       "    <tr>\n",
       "      <th>19</th>\n",
       "      <td>0.70</td>\n",
       "      <td>40</td>\n",
       "      <td>0.035118</td>\n",
       "    </tr>\n",
       "    <tr>\n",
       "      <th>20</th>\n",
       "      <td>0.70</td>\n",
       "      <td>50</td>\n",
       "      <td>0.022093</td>\n",
       "    </tr>\n",
       "    <tr>\n",
       "      <th>21</th>\n",
       "      <td>0.70</td>\n",
       "      <td>70</td>\n",
       "      <td>0.002493</td>\n",
       "    </tr>\n",
       "    <tr>\n",
       "      <th>22</th>\n",
       "      <td>0.70</td>\n",
       "      <td>80</td>\n",
       "      <td>-0.010551</td>\n",
       "    </tr>\n",
       "    <tr>\n",
       "      <th>23</th>\n",
       "      <td>0.70</td>\n",
       "      <td>90</td>\n",
       "      <td>-0.035145</td>\n",
       "    </tr>\n",
       "  </tbody>\n",
       "</table>\n",
       "</div>"
      ],
      "text/plain": [
       "     eps  min_samples  silhoutte score\n",
       "0   0.35            3        -0.292218\n",
       "1   0.40            3        -0.286886\n",
       "2   0.40            5        -0.271692\n",
       "3   0.50            3        -0.260339\n",
       "4   0.50            5        -0.211581\n",
       "5   0.50           10        -0.140371\n",
       "6   0.50           20        -0.167624\n",
       "7   0.60            3        -0.077055\n",
       "8   0.60            5        -0.096872\n",
       "9   0.60           10        -0.018726\n",
       "10  0.60           20        -0.048643\n",
       "11  0.60           30        -0.076783\n",
       "12  0.60           40        -0.111102\n",
       "13  0.60           50        -0.128094\n",
       "14  0.70            3        -0.129697\n",
       "15  0.70            5        -0.005883\n",
       "16  0.70           10        -0.013075\n",
       "17  0.70           20         0.062371\n",
       "18  0.70           30         0.042605\n",
       "19  0.70           40         0.035118\n",
       "20  0.70           50         0.022093\n",
       "21  0.70           70         0.002493\n",
       "22  0.70           80        -0.010551\n",
       "23  0.70           90        -0.035145"
      ]
     },
     "execution_count": 87,
     "metadata": {},
     "output_type": "execute_result"
    }
   ],
   "source": [
    "pd.DataFrame({'eps':eps_use, 'min_samples':min_samples_use,'silhoutte score':sil_scores})"
   ]
  },
  {
   "cell_type": "code",
   "execution_count": 88,
   "metadata": {},
   "outputs": [
    {
     "data": {
      "text/plain": [
       "Text(0.5, 1.0, 'Silhouette Score')"
      ]
     },
     "execution_count": 88,
     "metadata": {},
     "output_type": "execute_result"
    },
    {
     "data": {
      "image/png": "[encoded data removed]",
      "text/plain": [
       "<Figure size 432x288 with 1 Axes>"
      ]
     },
     "metadata": {
      "needs_background": "light"
     },
     "output_type": "display_data"
    }
   ],
   "source": [
    "#sil_scores 그래프\n",
    "plt.bar(range(0,24), sil_scores, )\n",
    "plt.xlabel(\"Number of clusters\")\n",
    "plt.title(\"Silhouette Score\")"
   ]
  },
  {
   "cell_type": "code",
   "execution_count": 89,
   "metadata": {},
   "outputs": [
    {
     "data": {
      "text/plain": [
       "0.062370699779799726"
      ]
     },
     "execution_count": 89,
     "metadata": {},
     "output_type": "execute_result"
    }
   ],
   "source": [
    "dbscan = DBSCAN(eps=0.7, min_samples=20)\n",
    "dbscan.fit(train_data_scaled)\n",
    "assignments_dbscan_labels = dbscan.labels_\n",
    "silhouette_score(train_data_scaled,dbscan.labels_)"
   ]
  },
  {
   "cell_type": "code",
   "execution_count": 90,
   "metadata": {},
   "outputs": [
    {
     "data": {
      "text/plain": [
       "array([-1, -1, -1, ..., -1, -1, -1], dtype=int64)"
      ]
     },
     "execution_count": 90,
     "metadata": {},
     "output_type": "execute_result"
    }
   ],
   "source": [
    "dbscan.labels_"
   ]
  },
  {
   "cell_type": "markdown",
   "metadata": {},
   "source": [
    "### 실루엣 스코어가 가장 높고 적절하게 나누어졌던 \n",
    "### Agglomerative Clustering (n_clusters=2,linkage=\"ward\")로 나누어진 군집으로 진행"
   ]
  },
  {
   "cell_type": "markdown",
   "metadata": {},
   "source": [
    "###  같은 상권코드를 가진 데이터에는 같은 라벨을 부여하고 각 군집별로 과정 진행"
   ]
  }
 ],
 "metadata": {
  "kernelspec": {
   "display_name": "Python 3",
   "language": "python",
   "name": "python3"
  },
  "language_info": {
   "codemirror_mode": {
    "name": "ipython",
    "version": 3
   },
   "file_extension": ".py",
   "mimetype": "text/x-python",
   "name": "python",
   "nbconvert_exporter": "python",
   "pygments_lexer": "ipython3",
   "version": "3.8.3"
  }
 },
 "nbformat": 4,
 "nbformat_minor": 5
}
